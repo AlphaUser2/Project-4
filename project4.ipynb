{
 "cells": [
  {
   "cell_type": "code",
   "execution_count": 1,
   "metadata": {},
   "outputs": [],
   "source": [
    "# Step 1: Import Necessary Libraries\n",
    "import pandas as pd\n",
    "import numpy as np\n",
    "import seaborn as sns\n",
    "import matplotlib.pyplot as plt\n",
    "from sklearn.model_selection import train_test_split, GridSearchCV\n",
    "from sklearn.linear_model import LinearRegression, LassoCV\n",
    "from sklearn.tree import DecisionTreeRegressor\n",
    "from sklearn.ensemble import RandomForestRegressor, GradientBoostingRegressor\n",
    "from sklearn.metrics import mean_absolute_error, mean_squared_error, r2_score\n",
    "from sklearn.feature_selection import RFE, mutual_info_regression\n",
    "from sklearn.preprocessing import MinMaxScaler\n",
    "import joblib"
   ]
  },
  {
   "cell_type": "markdown",
   "metadata": {},
   "source": [
    "# Step 2: Load the Dataset"
   ]
  },
  {
   "cell_type": "code",
   "execution_count": null,
   "metadata": {},
   "outputs": [],
   "source": [
    "\n",
    "file_path = 'C:\\\\Users\\\\santh\\\\Downloads\\\\Processed_Flipdata - Processed_Flipdata.csv'\n",
    "dataset = pd.read_csv(file_path)\n",
    "\n",
    "# Display the first few rows of the dataset\n",
    "print(\"First few rows of the dataset:\")\n",
    "display(dataset.head())\n",
    "\n",
    "# Inspect the dataset structure and data types\n",
    "print(\"\\nDataset Information:\")\n",
    "dataset.info()\n",
    "\n",
    "# Check for missing values\n",
    "print(\"\\nMissing Values in Each Column:\")\n",
    "print(dataset.isnull().sum())\n",
    "\n",
    "# Summary statistics\n",
    "print(\"\\nSummary Statistics:\")\n",
    "display(dataset.describe())"
   ]
  },
  {
   "cell_type": "markdown",
   "metadata": {},
   "source": [
    "# Step 3: Data Visualization"
   ]
  },
  {
   "cell_type": "code",
   "execution_count": null,
   "metadata": {},
   "outputs": [],
   "source": [
    "# Visualize distributions of features\n",
    "sns.pairplot(dataset)\n",
    "plt.title('Pairplot of Features')\n",
    "plt.show()\n"
   ]
  },
  {
   "cell_type": "markdown",
   "metadata": {},
   "source": [
    "# Step 4: Data Preprocessing python\n",
    "\n"
   ]
  },
  {
   "cell_type": "code",
   "execution_count": null,
   "metadata": {},
   "outputs": [],
   "source": [
    "# Convert camera columns to numeric\n",
    "dataset['Rear Camera'] = dataset['Rear Camera'].str.replace('MP', '').astype(int)\n",
    "dataset['Front Camera'] = dataset['Front Camera'].str.replace('MP', '').astype(int)\n",
    "\n",
    "# Convert 'Prize' to numeric (removing commas)\n",
    "dataset['Prize'] = dataset['Prize'].str.replace(',', '').astype(float)\n",
    "\n",
    "# Check for non-numeric columns and their data types\n",
    "print(\"\\nData Types After Conversion:\")\n",
    "print(dataset.dtypes)\n",
    "\n",
    "# Handle missing values (mean imputation)\n",
    "dataset.fillna(dataset.mean(numeric_only=True), inplace=True)\n",
    "\n",
    "# One-hot encoding for categorical variables\n",
    "dataset = pd.get_dummies(dataset, columns=['Colour', 'Processor_'], drop_first=True)\n",
    "\n",
    "# Normalize numerical features\n",
    "scaler = MinMaxScaler()\n",
    "numerical_cols = ['Memory', 'RAM', 'Battery_', 'Mobile Height', 'Rear Camera', 'Front Camera']\n",
    "dataset[numerical_cols] = scaler.fit_transform(dataset[numerical_cols])\n",
    "\n",
    "# Final dataset after preprocessing\n",
    "print(\"\\nFinal Preprocessed Dataset:\")\n",
    "display(dataset.head())\n"
   ]
  },
  {
   "cell_type": "markdown",
   "metadata": {},
   "source": [
    "# Step 5: Feature Analysis and Extraction python\n"
   ]
  },
  {
   "cell_type": "code",
   "execution_count": null,
   "metadata": {},
   "outputs": [],
   "source": [
    "# Define features (X) and target (y)\n",
    "X = dataset.drop(['Prize', 'Model'], axis=1, errors='ignore')  # Drop target and any non-numeric columns\n",
    "y = dataset['Prize']\n",
    "\n",
    "# RFE for feature selection\n",
    "model = LinearRegression()\n",
    "rfe = RFE(model, n_features_to_select=5)\n",
    "fit = rfe.fit(X, y)\n",
    "print(\"\\nSelected Features by RFE:\")\n",
    "selected_features_rfe = X.columns[fit.support_]\n",
    "print(selected_features_rfe)\n",
    "\n",
    "# Mutual Information Scores\n",
    "mi_scores = mutual_info_regression(X, y)\n",
    "mi_scores = pd.Series(mi_scores, index=X.columns)\n",
    "mi_scores.sort_values(ascending=False, inplace=True)\n",
    "\n",
    "# Plot Mutual Information Scores\n",
    "plt.figure(figsize=(12, 6))\n",
    "mi_scores.plot(kind='bar')\n",
    "plt.title('Mutual Information Scores')\n",
    "plt.ylabel('Score')\n",
    "plt.show()\n",
    "\n",
    "# Lasso Regression for Feature Selection\n",
    "lasso = LassoCV(cv=5)\n",
    "lasso.fit(X, y)\n",
    "lasso_coef = pd.Series(lasso.coef_, index=X.columns)\n",
    "lasso_coef = lasso_coef[lasso_coef != 0]  # Keep only non-zero coefficients\n",
    "print(\"\\nFeatures Selected by Lasso Regression:\")\n",
    "print(lasso_coef)\n"
   ]
  },
  {
   "cell_type": "markdown",
   "metadata": {},
   "source": [
    "# Step 6: Model Building python\n",
    "\n"
   ]
  },
  {
   "cell_type": "code",
   "execution_count": null,
   "metadata": {},
   "outputs": [],
   "source": [
    "# Split the dataset into training and testing sets\n",
    "X_train, X_test, y_train, y_test = train_test_split(X, y, test_size=0.2, random_state=42)\n",
    "\n",
    "# Initialize a dictionary to store model performance metrics\n",
    "model_performance = {}\n",
    "\n",
    "# Define models to evaluate\n",
    "models = {\n",
    "    'Linear Regression': LinearRegression(),\n",
    "    'Decision Tree': DecisionTreeRegressor(),\n",
    "    'Random Forest': RandomForestRegressor(),\n",
    "    'Gradient Boosting': GradientBoostingRegressor()\n",
    "}\n",
    "\n",
    "# Train each model and evaluate its performance\n",
    "for model_name, model in models.items():\n",
    "    model.fit(X_train, y_train)  # Train the model\n",
    "    y_pred = model.predict(X_test)  # Make predictions\n",
    "    \n",
    "    # Calculate performance metrics\n",
    "    mae = mean_absolute_error(y_test, y_pred)\n",
    "    rmse = mean_squared_error(y_test, y_pred, squared=False)\n",
    "    r2 = r2_score(y_test, y_pred)\n",
    "    \n",
    "    # Store metrics\n",
    "    model_performance[model_name] = {'MAE': mae, 'RMSE': rmse, 'R²': r2}\n",
    "\n",
    "# Display model performance\n",
    "performance_df = pd.DataFrame(model_performance).T\n",
    "print(\"\\nModel Performance Metrics:\")\n",
    "display(performance_df)\n",
    "\n",
    "# Hyperparameter Tuning with GridSearchCV for Random Forest\n",
    "param_grid = {\n",
    "    'n_estimators': [50, 100, 200],\n",
    "    'max_depth': [None, 10, 20, 30],\n",
    "    'min_samples_split': [2, 5, 10]\n",
    "}\n",
    "\n",
    "grid_search = GridSearchCV(RandomForestRegressor(), param_grid, cv=5, scoring='neg_mean_squared_error')\n",
    "grid_search.fit(X_train, y_train)\n",
    "\n",
    "# Get the best model from grid search\n",
    "best_model = grid_search.best_estimator_\n",
    "best_model_name = 'Random Forest (Tuned)'\n",
    "\n",
    "# Evaluate the best model\n",
    "y_pred_best = best_model.predict(X_test)\n",
    "mae_best = mean_absolute_error(y_test, y_pred_best)\n",
    "rmse_best = mean_squared_error(y_test, y_pred_best, squared=False)\n",
    "r2_best = r2_score(y_test, y_pred_best)\n",
    "\n",
    "print(f\"\\nBest Model: {best_model_name}\")\n",
    "print(f\"MAE: {mae_best}, RMSE: {rmse_best}, R²: {r2_best}\")\n"
   ]
  },
  {
   "cell_type": "markdown",
   "metadata": {},
   "source": [
    "# Step 8: Save the Best Model"
   ]
  },
  {
   "cell_type": "code",
   "execution_count": null,
   "metadata": {},
   "outputs": [],
   "source": [
    "# Save the best model\n",
    "joblib.dump(best_model, 'best_random_forest_model.pkl')\n",
    "print(\"Best model saved as 'best_random_forest_model.pkl'.\")\n"
   ]
  },
  {
   "cell_type": "code",
   "execution_count": null,
   "metadata": {},
   "outputs": [],
   "source": []
  }
 ],
 "metadata": {
  "kernelspec": {
   "display_name": "Python 3",
   "language": "python",
   "name": "python3"
  },
  "language_info": {
   "codemirror_mode": {
    "name": "ipython",
    "version": 3
   },
   "file_extension": ".py",
   "mimetype": "text/x-python",
   "name": "python",
   "nbconvert_exporter": "python",
   "pygments_lexer": "ipython3",
   "version": "3.12.4"
  }
 },
 "nbformat": 4,
 "nbformat_minor": 2
}
